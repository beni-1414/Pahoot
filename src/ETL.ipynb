{
 "cells": [
  {
   "cell_type": "markdown",
   "metadata": {},
   "source": [
    "# Import data from excels into database"
   ]
  },
  {
   "cell_type": "code",
   "execution_count": null,
   "metadata": {},
   "outputs": [],
   "source": [
    "import pyodbc\n",
    "import pandas as pd\n",
    "import os\n",
    "from datetime import datetime\n",
    "from src.etl_functions import *\n",
    "import settings"
   ]
  },
  {
   "cell_type": "markdown",
   "metadata": {},
   "source": [
    "## Daily data (2023-2024 format)\n",
    "This format has persons on rows and days on columns. One table per month."
   ]
  },
  {
   "cell_type": "code",
   "execution_count": null,
   "metadata": {},
   "outputs": [],
   "source": [
    "query_folder = 'data/data_2024'"
   ]
  },
  {
   "cell_type": "code",
   "execution_count": null,
   "metadata": {},
   "outputs": [],
   "source": [
    "# FILE MANAGEMENT #\n",
    "year = int(query_folder.split('_')[1])\n",
    "year_files = []\n",
    "for file in os.listdir(query_folder):\n",
    "    if file.endswith('.csv') and len(file.split('_')) == 2:\n",
    "        year_files.append(query_folder+'/'+file)\n",
    "\n",
    "# CONNECTION TO THE DATABASE #\n",
    "conn = settings.con\n",
    "cursor = conn.cursor()\n",
    "\n",
    "for monthly_path in year_files:\n",
    "    data, month =load_month_data(monthly_path)\n",
    "\n",
    "    # Transform the original dictionary\n",
    "    preprocessed_dict = {}\n",
    "    for person_id, counts in data.items():\n",
    "        transformed_list = []\n",
    "        dates_generator = generate_dates(month,year)\n",
    "        for count in counts:\n",
    "            date = next(dates_generator)\n",
    "            transformed_list.extend([(date, str(i)) for i in range(1, count + 1)])\n",
    "        preprocessed_dict[person_id] = transformed_list\n",
    "\n",
    "    for person_id,tuple_list in preprocessed_dict.items():\n",
    "        for tuple in tuple_list:\n",
    "            date = tuple[0]\n",
    "            instance = tuple[1]\n",
    "            weekday = get_weekday(date)\n",
    "            query = f\"\"\"INSERT INTO Gaioles ([Person_id],[Day],[Instance],[Weekday])\n",
    "                        VALUES ('{person_id}', '{date}', '{instance}', '{weekday}')\"\"\"\n",
    "            cursor.execute(query)\n",
    "            con.commit()"
   ]
  },
  {
   "cell_type": "markdown",
   "metadata": {},
   "source": [
    "## Hourly data (2025 format)\n",
    "There is one table per person, days on columns and time periods on rows."
   ]
  },
  {
   "cell_type": "code",
   "execution_count": null,
   "metadata": {},
   "outputs": [],
   "source": [
    "csv_file = 'data_2025/Data_02_hourly.csv'"
   ]
  },
  {
   "cell_type": "code",
   "execution_count": 2,
   "metadata": {},
   "outputs": [],
   "source": [
    "# Load CSV file in a format like 'data_2025/Data_01_hourly.csv'\n",
    "df = pd.read_csv(csv_file, header=None)\n",
    "month = csv_file.split(\"/\")[1].split(\"_\")[1]\n",
    "year =  csv_file.split(\"/\")[0].split(\"_\")[1]\n",
    "\n",
    "def process_csv(df):\n",
    "    records = []\n",
    "    person_id = None\n",
    "    instance_tracker = {}  # Dictionary to track instance count per person & day\n",
    "    \n",
    "    for index, row in df.iterrows():\n",
    "        first_col = str(row[0])\n",
    "\n",
    "        if first_col.startswith(\"Total\") or first_col == \"NS\" or first_col == 'nan':\n",
    "            continue  # Skip irrelevant rows\n",
    "\n",
    "        if len(first_col) in (3,4):  # Detect Person ID (e.g., 'RLP', 'HCT')\n",
    "            person_id = first_col\n",
    "            instance_tracker[person_id] = {}  # Reset instance tracking for new person\n",
    "        \n",
    "        elif \"-\" in first_col:  # Time period row (e.g., '00-03')\n",
    "            time_period = first_col\n",
    "            \n",
    "            for day_idx, value in enumerate(row[1:], start=1):\n",
    "                if pd.notna(value) and value > 0:  # Event occurred\n",
    "                    date_str = f\"{year}-{month}-{day_idx:02d}\"\n",
    "                    date_obj = datetime.strptime(date_str, \"%Y-%m-%d\").date()\n",
    "                    weekday = date_obj.strftime(\"%A\")\n",
    "\n",
    "                    # Increase instance count per person & day\n",
    "                    if day_idx not in instance_tracker[person_id]:\n",
    "                        instance_tracker[person_id][day_idx] = value\n",
    "                    else:\n",
    "                        instance_tracker[person_id][day_idx] += value\n",
    "\n",
    "                    instance = instance_tracker[person_id][day_idx]\n",
    "                    records.append((person_id, date_obj, instance, weekday, time_period))\n",
    "    \n",
    "    return records\n",
    "\n",
    "\n",
    "# Insert data into SQL Server\n",
    "def insert_into_db(records):\n",
    "    conn = settings.con\n",
    "    cursor = conn.cursor()\n",
    "    \n",
    "    insert_query = \"\"\"\n",
    "    INSERT INTO Gaioles (Person_id, Day, Instance, Weekday, Time_period) \n",
    "    VALUES (?, ?, ?, ?, ?)\n",
    "    \"\"\"\n",
    "    \n",
    "    cursor.executemany(insert_query, records)\n",
    "    conn.commit()"
   ]
  },
  {
   "cell_type": "code",
   "execution_count": 3,
   "metadata": {},
   "outputs": [
    {
     "name": "stdout",
     "output_type": "stream",
     "text": [
      "Data successfully inserted into the database.\n"
     ]
    }
   ],
   "source": [
    "# Process CSV data\n",
    "records = process_csv(df)\n",
    "\n",
    "# Run the insertion\n",
    "insert_into_db(records)\n",
    "\n",
    "print(\"Data successfully inserted into the database.\")"
   ]
  }
 ],
 "metadata": {
  "kernelspec": {
   "display_name": "Python 3",
   "language": "python",
   "name": "python3"
  },
  "language_info": {
   "codemirror_mode": {
    "name": "ipython",
    "version": 3
   },
   "file_extension": ".py",
   "mimetype": "text/x-python",
   "name": "python",
   "nbconvert_exporter": "python",
   "pygments_lexer": "ipython3",
   "version": "3.11.4"
  }
 },
 "nbformat": 4,
 "nbformat_minor": 2
}
